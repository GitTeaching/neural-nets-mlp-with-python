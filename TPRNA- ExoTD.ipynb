{
 "cells": [
  {
   "cell_type": "markdown",
   "metadata": {},
   "source": [
    "### This notebook is broken down into 6 parts:\n",
    "\n",
    "- Initialize Network.\n",
    "- Forward Propagate.\n",
    "- Back Propagate Error.\n",
    "- Train Network.\n",
    "- Predict.\n",
    "- Seeds Dataset Case Study.\n",
    "\n",
    "These steps will provide the foundation that you need to implement the backpropagation algorithm from scratch and apply it to your own predictive modeling problems.\n",
    "\n",
    "Source : https://machinelearningmastery.com/implement-backpropagation-algorithm-scratch-python/"
   ]
  },
  {
   "cell_type": "markdown",
   "metadata": {},
   "source": [
    "### 1. Initialize Network and Data"
   ]
  },
  {
   "cell_type": "code",
   "execution_count": 1,
   "metadata": {},
   "outputs": [
    {
     "name": "stdout",
     "output_type": "stream",
     "text": [
      "[[{'weights': [0.15, 0.2, 0.35]}, {'weights': [0.25, 0.3, 0.35]}], [{'weights': [0.4, 0.45, 0.6]}, {'weights': [0.5, 0.55, 0.6]}]]\n"
     ]
    }
   ],
   "source": [
    "# Initialization - Exo TD : 1 hidden layer (2 neurons) and 1 ontput layer (2 neurons)\n",
    "network = [[{'weights': [0.15, 0.20, 0.35]}, {'weights': [0.25, 0.30, 0.35]}],\n",
    "           [{'weights': [0.40, 0.45, 0.60]}, {'weights': [0.50, 0.55, 0.60]}]]\n",
    "print(network)"
   ]
  },
  {
   "cell_type": "code",
   "execution_count": 2,
   "metadata": {},
   "outputs": [],
   "source": [
    "# data row and its class\n",
    "row_data = [0.05, 0.10, 0.01]\n",
    "expected = [0.01, 0.99]"
   ]
  },
  {
   "cell_type": "markdown",
   "metadata": {},
   "source": [
    "### 2. Forward Propagation\n",
    "\n",
    "We can break forward propagation down into three parts:\n",
    "- Neuron Activation (= neuron input).\n",
    "- Neuron Transfer (=neuron output).\n",
    "- Forward Propagation."
   ]
  },
  {
   "cell_type": "code",
   "execution_count": 3,
   "metadata": {},
   "outputs": [],
   "source": [
    "# Calculate neuron activation for an input\n",
    "# activation = sum(weight_i * input_i) + bias\n",
    "def activate(weights, inputs):\n",
    "    activation = weights[-1]\n",
    "    for i in range(len(weights)-1):\n",
    "        activation += weights[i] * inputs[i]\n",
    "    return activation"
   ]
  },
  {
   "cell_type": "code",
   "execution_count": 4,
   "metadata": {},
   "outputs": [],
   "source": [
    "# Transfer neuron activation\n",
    "# output = 1 / (1 + e^(-activation))\n",
    "from math import exp\n",
    "def transfer(activation):\n",
    "    return 1.0 / (1.0 + exp(-activation))"
   ]
  },
  {
   "cell_type": "code",
   "execution_count": 5,
   "metadata": {},
   "outputs": [],
   "source": [
    "# Forward propagate input to a network output\n",
    "def forward_propagate(network, row_data):\n",
    "    inputs = row_data\n",
    "    for layer in network:\n",
    "        new_inputs = []\n",
    "        for neuron in layer:\n",
    "            activation = activate(neuron['weights'], inputs)\n",
    "            print(\"Inputs : \" + str(activation))\n",
    "            neuron['output'] = transfer(activation)\n",
    "            print(\"Outputs : \" + str(neuron['output']))\n",
    "            new_inputs.append(neuron['output'])\n",
    "        inputs = new_inputs\n",
    "    return inputs"
   ]
  },
  {
   "cell_type": "code",
   "execution_count": 6,
   "metadata": {},
   "outputs": [
    {
     "name": "stdout",
     "output_type": "stream",
     "text": [
      "Inputs : 0.3775\n",
      "Outputs : 0.5932699921071872\n",
      "Inputs : 0.39249999999999996\n",
      "Outputs : 0.596884378259767\n",
      "Inputs : 1.1059059670597702\n",
      "Outputs : 0.7513650695523157\n",
      "Inputs : 1.2249214040964653\n",
      "Outputs : 0.7729284653214625\n"
     ]
    }
   ],
   "source": [
    "# Forward propagation on : exo TD\n",
    "output = forward_propagate(network, row_data)"
   ]
  },
  {
   "cell_type": "markdown",
   "metadata": {},
   "source": [
    "### 3. Back Propagate Error\n",
    "\n",
    "This part is broken down into two sections.\n",
    "- Transfer Derivative.\n",
    "- Error Backpropagation."
   ]
  },
  {
   "cell_type": "code",
   "execution_count": 7,
   "metadata": {},
   "outputs": [],
   "source": [
    "# Calculate the derivative of an neuron output\n",
    "# derivative = output * (1.0 - output)\n",
    "def transfer_derivative(output):\n",
    "    return output * (1.0 - output)"
   ]
  },
  {
   "cell_type": "code",
   "execution_count": 8,
   "metadata": {},
   "outputs": [],
   "source": [
    "# Backpropagate error and store in neurons\n",
    "# output_error = (expected - output) * transfer_derivative(output)\n",
    "# hidden_error = (weight_k * error_j) * transfer_derivative(output)\n",
    "def backward_propagate_error(network, expected):\n",
    "    for i in reversed(range(len(network))):\n",
    "        layer = network[i]\n",
    "        errors = list()\n",
    "        if i != len(network)-1:\n",
    "            for j in range(len(layer)):\n",
    "                error = 0.0\n",
    "                for neuron in network[i + 1]:\n",
    "                    error += (neuron['weights'][j] * neuron['delta'])\n",
    "                errors.append(error)\n",
    "        else:\n",
    "            for j in range(len(layer)):\n",
    "                neuron = layer[j]\n",
    "                errors.append(expected[j] - neuron['output'])\n",
    "        for j in range(len(layer)):\n",
    "            neuron = layer[j]\n",
    "            neuron['delta'] = errors[j] * transfer_derivative(neuron['output'])\n",
    "            print(\"Error : \" + str(neuron['delta']))"
   ]
  },
  {
   "cell_type": "code",
   "execution_count": 9,
   "metadata": {},
   "outputs": [
    {
     "name": "stdout",
     "output_type": "stream",
     "text": [
      "Error : -0.13849856162855698\n",
      "Error : 0.03809823651655623\n",
      "Error : -0.008771354689486937\n",
      "Error : -0.009954254705217202\n"
     ]
    }
   ],
   "source": [
    "# Error Backpropagation\n",
    "backward_propagate_error(network, expected)"
   ]
  },
  {
   "cell_type": "markdown",
   "metadata": {},
   "source": [
    "### 4. Update and Train Network\n",
    "\n",
    "This part is broken down into two sections:\n",
    "- Update Weights.\n",
    "- Train Network."
   ]
  },
  {
   "cell_type": "code",
   "execution_count": 10,
   "metadata": {},
   "outputs": [],
   "source": [
    "# Update network weights with error\n",
    "# weight = weight + learning_rate * error * input\n",
    "# weight = weight + learning_rate * error\n",
    "def update_weights(network, row, l_rate):\n",
    "\tfor i in range(len(network)):\n",
    "\t\tinputs = row[:-1]\n",
    "\t\tif i != 0:\n",
    "\t\t\tinputs = [neuron['output'] for neuron in network[i - 1]]\n",
    "\t\tfor neuron in network[i]:\n",
    "\t\t\tfor j in range(len(inputs)): \n",
    "\t\t\t\tneuron['weights'][j] += l_rate * neuron['delta'] * inputs[j]\n",
    "\t\t\t\tprint(neuron['delta'], neuron['weights'][j])                \n",
    "\t\t\tneuron['weights'][-1] += l_rate * neuron['delta']\n",
    "\t\t\tprint(neuron['delta'], neuron['weights'][-1])"
   ]
  },
  {
   "cell_type": "code",
   "execution_count": 11,
   "metadata": {},
   "outputs": [
    {
     "name": "stdout",
     "output_type": "stream",
     "text": [
      "Error \t\t\t New weight\n",
      "-0.008771354689486937 0.14960528903897308\n",
      "-0.008771354689486937 0.19921057807794618\n",
      "-0.008771354689486937 0.34210578077946174\n",
      "-0.009954254705217202 0.24955205853826523\n",
      "-0.009954254705217202 0.29910411707653045\n",
      "-0.009954254705217202 0.3410411707653045\n",
      "-0.13849856162855698 0.32604966349219233\n",
      "-0.13849856162855698 0.3755991349372201\n",
      "-0.13849856162855698 0.4753512945342987\n",
      "0.03809823651655623 0.5203422864297276\n",
      "0.03809823651655623 0.5704662179943805\n",
      "0.03809823651655623 0.6342884128649006\n"
     ]
    }
   ],
   "source": [
    "l_rate = 0.9\n",
    "print(\"Error \\t\\t\\t New weight\")\n",
    "update_weights(network, row_data, l_rate)"
   ]
  },
  {
   "cell_type": "code",
   "execution_count": 12,
   "metadata": {},
   "outputs": [
    {
     "data": {
      "text/plain": [
       "[[{'weights': [0.14960528903897308, 0.19921057807794618, 0.34210578077946174],\n",
       "   'output': 0.5932699921071872,\n",
       "   'delta': -0.008771354689486937},\n",
       "  {'weights': [0.24955205853826523, 0.29910411707653045, 0.3410411707653045],\n",
       "   'output': 0.596884378259767,\n",
       "   'delta': -0.009954254705217202}],\n",
       " [{'weights': [0.32604966349219233, 0.3755991349372201, 0.4753512945342987],\n",
       "   'output': 0.7513650695523157,\n",
       "   'delta': -0.13849856162855698},\n",
       "  {'weights': [0.5203422864297276, 0.5704662179943805, 0.6342884128649006],\n",
       "   'output': 0.7729284653214625,\n",
       "   'delta': 0.03809823651655623}]]"
      ]
     },
     "execution_count": 12,
     "metadata": {},
     "output_type": "execute_result"
    }
   ],
   "source": [
    "network"
   ]
  },
  {
   "cell_type": "code",
   "execution_count": 13,
   "metadata": {},
   "outputs": [],
   "source": [
    "# Train a network for a fixed number of epochs (iterations)\n",
    "def train_network(network, train, l_rate, n_epoch, n_outputs):\n",
    "\tfor epoch in range(n_epoch):\n",
    "\t\tsum_error = 0\n",
    "\t\tfor row in train:\n",
    "\t\t\toutputs = forward_propagate(network, row)\n",
    "\t\t\texpected = [0 for i in range(n_outputs)]\n",
    "\t\t\texpected[row[-1]] = 1\n",
    "\t\t\tsum_error += sum([(expected[i]-outputs[i])**2 for i in range(len(expected))])\n",
    "\t\t\tbackward_propagate_error(network, expected)\n",
    "\t\t\tupdate_weights(network, row, l_rate)\n",
    "\t\tprint('>epoch=%d, lrate=%.3f, error=%.3f' % (epoch, l_rate, sum_error))\n",
    "\t\tprint('========================')"
   ]
  },
  {
   "cell_type": "code",
   "execution_count": 14,
   "metadata": {},
   "outputs": [],
   "source": [
    "# Initialize a network function - init random weight and bias values\n",
    "def initialize_network(n_inputs, n_hidden, n_outputs):\n",
    "    network = list()\n",
    "    hidden_layer = [{'weights':[random() for i in range(n_inputs + 1)]} for i in range(n_hidden)]\n",
    "    network.append(hidden_layer)\n",
    "    output_layer = [{'weights':[random() for i in range(n_hidden + 1)]} for i in range(n_outputs)]\n",
    "    network.append(output_layer)\n",
    "    return network"
   ]
  },
  {
   "cell_type": "code",
   "execution_count": 15,
   "metadata": {},
   "outputs": [
    {
     "name": "stdout",
     "output_type": "stream",
     "text": [
      "Inputs : 3.2988639183529895\n",
      "Outputs : 0.9643898158763548\n",
      "Inputs : 2.422484871353145\n",
      "Outputs : 0.9185258960543243\n",
      "Inputs : 1.4467120366053836\n",
      "Outputs : 0.8094918973879515\n",
      "Inputs : 1.227776976537604\n",
      "Outputs : 0.7734292563511262\n",
      "Error : 0.029379162360871295\n",
      "Error : -0.13553299084477086\n",
      "Error : 0.000525476610401129\n",
      "Error : -0.0067428584755714034\n",
      "0.000525476610401129 0.1350949413040863\n",
      "0.000525476610401129 0.8481038607067523\n",
      "0.000525476610401129 0.7640373572818145\n",
      "-0.0067428584755714034 0.24569279917765538\n",
      "-0.0067428584755714034 0.48683613206797244\n",
      "-0.0067428584755714034 0.4461196355509524\n",
      "0.029379162360871295 0.665759455212664\n",
      "0.029379162360871295 0.8022161118519355\n",
      "0.029379162360871295 0.10854916795467054\n",
      "-0.13553299084477086 -0.03700584152097382\n",
      "-0.13553299084477086 0.7735198229895619\n",
      "-0.13553299084477086 0.36500057248266793\n",
      "Inputs : 2.9653449544017474\n",
      "Outputs : 0.9509837432440319\n",
      "Inputs : 1.956147656983342\n",
      "Outputs : 0.8761154354578115\n",
      "Inputs : 1.4445095049393482\n",
      "Outputs : 0.8091520029266841\n",
      "Inputs : 1.007501275344906\n",
      "Outputs : 0.7325308601652404\n",
      "Error : 0.029471709407611683\n",
      "Error : -0.1435243312330016\n",
      "Error : 0.0011621862044020373\n",
      "Error : -0.009483570094228769\n",
      "0.0011621862044020373 0.1359465270695044\n",
      "0.0011621862044020373 0.849476475294952\n",
      "0.0011621862044020373 0.7646184503840155\n",
      "-0.009483570094228769 0.23874376358680072\n",
      "-0.009483570094228769 0.4756354427031817\n",
      "-0.009483570094228769 0.44137785050383804\n",
      "0.029471709407611683 0.6797730134787895\n",
      "0.029471709407611683 0.8151264216126034\n",
      "0.029471709407611683 0.12328502265847638\n",
      "-0.1435243312330016 -0.10525049440225191\n",
      "-0.1435243312330016 0.7106478820110658\n",
      "-0.1435243312330016 0.29323840686616715\n",
      "Inputs : 4.964315053123054\n",
      "Outputs : 0.9930656885655824\n",
      "Inputs : 3.3452213318415556\n",
      "Outputs : 0.9659480032013406\n",
      "Inputs : 1.5857140176704396\n",
      "Outputs : 0.8300122406290891\n",
      "Inputs : 0.8751666547785777\n",
      "Outputs : 0.7058196329352753\n",
      "Error : 0.02398389952207174\n",
      "Error : -0.146555173654209\n",
      "Error : 0.00021849041793757203\n",
      "Error : -0.002782676105353667\n",
      "0.00021849041793757203 0.13631758516088535\n",
      "0.00021849041793757203 0.8499571862810515\n",
      "0.00021849041793757203 0.7647276955929844\n",
      "-0.002782676105353667 0.23401799806202206\n",
      "-0.002782676105353667 0.46951314687333634\n",
      "-0.002782676105353667 0.4399865124511612\n",
      "0.02398389952207174 0.6916818073254765\n",
      "0.02398389952207174 0.8267100215387668\n",
      "0.02398389952207174 0.13527697241951225\n",
      "-0.146555173654209 -0.1780199516211347\n",
      "-0.146555173654209 0.6398655433360113\n",
      "-0.146555173654209 0.21996082003906264\n",
      "Inputs : 1.7415918234663714\n",
      "Outputs : 0.8508891437795986\n",
      "Inputs : 2.3565362015396634\n",
      "Outputs : 0.9134523593615222\n",
      "Inputs : 1.4789817329050137\n",
      "Outputs : 0.8144187282102144\n",
      "Inputs : 0.6529722660628916\n",
      "Outputs : 0.6576799431140815\n",
      "Error : -0.12309194971064753\n",
      "Error : 0.07706892281302238\n",
      "Error : -0.012543075338246903\n",
      "Error : -0.00414635761669038\n",
      "-0.012543075338246903 0.0819093702957227\n",
      "-0.012543075338246903 0.8514753289693981\n",
      "-0.012543075338246903 0.7584561579238609\n",
      "-0.00414635761669038 0.21603230396124623\n",
      "-0.00414635761669038 0.470014998479047\n",
      "-0.00414635761669038 0.43791333364281604\n",
      "-0.12309194971064753 0.6393130054777493\n",
      "-0.12309194971064753 0.7704907055979664\n",
      "-0.12309194971064753 0.0737309975641885\n",
      "0.07706892281302238 -0.14523139674894042\n",
      "0.07706892281302238 0.6750649380245145\n",
      "0.07706892281302238 0.2584952814455738\n",
      "Inputs : 4.3744635618577385\n",
      "Outputs : 0.9875617615166254\n",
      "Inputs : 3.7447698613091127\n",
      "Outputs : 0.9769049231620952\n",
      "Inputs : 1.4577882389635726\n",
      "Outputs : 0.8111941585909466\n",
      "Inputs : 0.7745445688549332\n",
      "Outputs : 0.6845031543228663\n",
      "Error : -0.12424103365880687\n",
      "Error : 0.06813425269406377\n",
      "Error : -0.0010972156540815154\n",
      "Error : -0.0011220272731570057\n",
      "-0.0010972156540815154 0.07769948743567048\n",
      "-0.0010972156540815154 0.8495505038398978\n",
      "-0.0010972156540815154 0.7579075500968201\n",
      "-0.0011220272731570057 0.21172722194003776\n",
      "-0.0011220272731570057 0.46804664678508107\n",
      "-0.0011220272731570057 0.4373523200062375\n",
      "-0.12424103365880687 0.5779651584513804\n",
      "-0.12424103365880687 0.7098048668779484\n",
      "-0.12424103365880687 0.011610480734785059\n",
      "0.06813425269406377 -0.11158800544385616\n",
      "0.06813425269406377 0.708345281470915\n",
      "0.06813425269406377 0.2925624077926057\n",
      ">epoch=0, lrate=0.500, error=3.273\n",
      "========================\n",
      "Inputs : 3.1408063162935225\n",
      "Outputs : 0.9585449327706362\n",
      "Inputs : 2.219953716372657\n",
      "Outputs : 0.9020271054997165\n",
      "Inputs : 1.205879284225861\n",
      "Outputs : 0.7695690238925333\n",
      "Inputs : 0.8245469345560067\n",
      "Outputs : 0.695200674767929\n",
      "Error : 0.040862910600655646\n",
      "Error : -0.14731072643666004\n",
      "Error : 0.0015916651266914537\n",
      "Error : -0.00665830405795637\n",
      "0.0015916651266914537 0.07991276432593725\n",
      "0.0015916651266914537 0.8515803042409035\n",
      "0.0015916651266914537 0.7587033826601658\n",
      "-0.00665830405795637 0.2024685718303398\n",
      "-0.00665830405795637 0.4595555213465597\n",
      "-0.00665830405795637 0.4340231679772593\n",
      "0.040862910600655646 0.5975496263986394\n",
      "0.040862910600655646 0.7282345933636499\n",
      "0.040862910600655646 0.03204193603511288\n",
      "-0.14731072643666004 -0.1821899806281671\n",
      "-0.14731072643666004 0.6419061473825545\n",
      "-0.14731072643666004 0.2189070445742757\n",
      "Inputs : 2.887353880342115\n",
      "Outputs : 0.9472177418454031\n",
      "Inputs : 1.816266328945603\n",
      "Outputs : 0.8601175127078778\n",
      "Inputs : 1.2244188709047719\n",
      "Outputs : 0.7728402535975694\n",
      "Inputs : 0.5984481814153848\n",
      "Outputs : 0.6453011943941556\n",
      "Error : 0.03987975528604769\n",
      "Error : -0.14770141772626222\n",
      "Error : 0.00253680439042398\n",
      "Error : -0.00791297759309987\n",
      "0.00253680439042398 0.08177159426244189\n",
      "0.00253680439042398 0.8545764288726672\n",
      "0.00253680439042398 0.7599717848553778\n",
      "-0.00791297759309987 0.19667037954855882\n",
      "-0.00791297759309987 0.450209799947316\n",
      "-0.00791297759309987 0.4300666791807094\n",
      "0.03987975528604769 0.616437032272338\n",
      "0.03987975528604769 0.745385231325667\n",
      "0.03987975528604769 0.05198181367813672\n",
      "-0.14770141772626222 -0.2521426823111844\n",
      "-0.14770141772626222 0.5783858593634845\n",
      "-0.14770141772626222 0.1450563357111446\n",
      "Inputs : 4.798101179098195\n",
      "Outputs : 0.9918220417343672\n",
      "Inputs : 3.079125024920322\n",
      "Outputs : 0.956023413010184\n",
      "Inputs : 1.3759833824865106\n",
      "Outputs : 0.7983451391096033\n",
      "Inputs : 0.4479260890383926\n",
      "Outputs : 0.6101460300442629\n",
      "Error : 0.03246445194319432\n",
      "Error : -0.14513412561291372\n",
      "Error : 0.00045914222658507785\n",
      "Error : -0.0025118380560378473\n",
      "0.00045914222658507785 0.08255134671052283\n",
      "0.00045914222658507785 0.8555866091569336\n",
      "0.00045914222658507785 0.7602013559686703\n",
      "-0.0025118380560378473 0.19240457309475953\n",
      "-0.0025118380560378473 0.4446833875753764\n",
      "-0.0025118380560378473 0.4288107601526905\n",
      "0.03246445194319432 0.6325365117773811\n",
      "0.03246445194319432 0.7609036193997859\n",
      "0.03246445194319432 0.06821403964973388\n",
      "-0.14513412561291372 -0.3241162947065505\n",
      "-0.14513412561291372 0.5090100483071313\n",
      "-0.14513412561291372 0.07248927290468773\n",
      "Inputs : 1.269258149171678\n",
      "Outputs : 0.7806157288354734\n",
      "Inputs : 1.9903570725854447\n",
      "Outputs : 0.8797809089577572\n",
      "Inputs : 1.2314104677106732\n",
      "Outputs : 0.7740653437610704\n",
      "Inputs : 0.2672963182531606\n",
      "Outputs : 0.5664290350181062\n",
      "Error : -0.13537488486015195\n",
      "Error : 0.10647947205341188\n",
      "Error : -0.020574774016663352\n",
      "Error : -0.00516226198725429\n",
      "-0.020574774016663352 -0.006696042411612868\n",
      "-0.020574774016663352 0.858076863093505\n",
      "-0.020574774016663352 0.7499139689603387\n",
      "-0.00516226198725429 0.17001218113197245\n",
      "-0.00516226198725429 0.44530819848338254\n",
      "-0.00516226198725429 0.4262296291590633\n",
      "-0.13537488486015195 0.5796986295718183\n",
      "-0.13537488486015195 0.7013534997736278\n",
      "-0.13537488486015195 0.0005265972196579066\n",
      "0.10647947205341188 -0.28255651936505527\n",
      "0.10647947205341188 0.5558493516613776\n",
      "0.10647947205341188 0.12572900893139366\n",
      "Inputs : 3.709146912652397\n",
      "Outputs : 0.9760874069494646\n",
      "Inputs : 3.293253577113142\n",
      "Outputs : 0.9641966421973981\n",
      "Inputs : 1.2426058188456977\n",
      "Outputs : 0.7760172690308134\n",
      "Inputs : 0.3858772270671917\n",
      "Outputs : 0.595289832931719\n",
      "Error : -0.13488302815208458\n",
      "Error : 0.09750271182885753\n",
      "Error : -0.0024680899690765158\n",
      "Error : -0.001394801100982609\n",
      "-0.0024680899690765158 -0.016165803091048196\n",
      "-0.0024680899690765158 0.8537471385068439\n",
      "-0.0024680899690765158 0.7486799239758004\n",
      "-0.001394801100982609 0.16466049914824785\n",
      "-0.001394801100982609 0.4428613247080777\n",
      "-0.001394801100982609 0.42553222860857204\n",
      "-0.13488302815208458 0.5138698169765883\n",
      "-0.13488302815208458 0.6363266183567993\n",
      "-0.13488302815208458 -0.06691491685638438\n",
      "0.09750271182885753 -0.23497093478527004\n",
      "0.09750271182885753 0.60285524533664\n",
      "0.09750271182885753 0.1744803648458224\n",
      ">epoch=1, lrate=0.500, error=2.971\n",
      "========================\n"
     ]
    }
   ],
   "source": [
    "# Training a network with 2 inputs, 2 neurons hidden layer, and 2 neuron output layer\n",
    "from random import seed\n",
    "from random import random\n",
    "seed(1)\n",
    "train_dataset = [[2.7810836,2.550537003,0],\n",
    "            [1.465489372,2.362125076,0],\n",
    "            [3.396561688,4.400293529,0],\n",
    "            [8.675418651,-0.242068655,1],\n",
    "            [7.673756466,3.508563011,1]]\n",
    "n_inputs = len(train_dataset[0]) - 1\n",
    "n_outputs = len(set([row[-1] for row in train_dataset]))\n",
    "network = initialize_network(n_inputs, 2, n_outputs)\n",
    "n_epoch = 2\n",
    "l_rate = 0.5\n",
    "train_network(network, train_dataset, l_rate, n_epoch, n_outputs)"
   ]
  },
  {
   "cell_type": "code",
   "execution_count": 16,
   "metadata": {},
   "outputs": [
    {
     "data": {
      "text/plain": [
       "[[{'weights': [-0.016165803091048196, 0.8537471385068439, 0.7486799239758004],\n",
       "   'output': 0.9760874069494646,\n",
       "   'delta': -0.0024680899690765158},\n",
       "  {'weights': [0.16466049914824785, 0.4428613247080777, 0.42553222860857204],\n",
       "   'output': 0.9641966421973981,\n",
       "   'delta': -0.001394801100982609}],\n",
       " [{'weights': [0.5138698169765883, 0.6363266183567993, -0.06691491685638438],\n",
       "   'output': 0.7760172690308134,\n",
       "   'delta': -0.13488302815208458},\n",
       "  {'weights': [-0.23497093478527004, 0.60285524533664, 0.1744803648458224],\n",
       "   'output': 0.595289832931719,\n",
       "   'delta': 0.09750271182885753}]]"
      ]
     },
     "execution_count": 16,
     "metadata": {},
     "output_type": "execute_result"
    }
   ],
   "source": [
    "network"
   ]
  },
  {
   "cell_type": "markdown",
   "metadata": {},
   "source": [
    "### 5. Predict"
   ]
  },
  {
   "cell_type": "code",
   "execution_count": 17,
   "metadata": {},
   "outputs": [],
   "source": [
    "# Make a prediction with a network\n",
    "def predict(network, row):\n",
    "    outputs = forward_propagate(network, row)\n",
    "    return outputs.index(max(outputs))"
   ]
  },
  {
   "cell_type": "code",
   "execution_count": 18,
   "metadata": {},
   "outputs": [
    {
     "name": "stdout",
     "output_type": "stream",
     "text": [
      "Inputs : 2.8812351420855284\n",
      "Outputs : 0.9469109891811595\n",
      "Inputs : 2.0130010382231287\n",
      "Outputs : 0.8821553599383366\n",
      "Inputs : 0.981012996902145\n",
      "Outputs : 0.7273091708199171\n",
      "Inputs : 0.48379579050013855\n",
      "Outputs : 0.6186437939180887\n",
      "\n",
      "Expected=0, Got=0\n",
      "===============\n",
      "Inputs : 2.741646635786285\n",
      "Outputs : 0.939439845926922\n",
      "Inputs : 1.7129342803820728\n",
      "Outputs : 0.8472164866640284\n",
      "Inputs : 0.9549412668056468\n",
      "Outputs : 0.7221078201236351\n",
      "Inputs : 0.4644882089949326\n",
      "Outputs : 0.6140783624921721\n",
      "\n",
      "Expected=0, Got=0\n",
      "===============\n",
      "Inputs : 2.9810869938207016\n",
      "Outputs : 0.951712349652103\n",
      "Inputs : 2.903455854183724\n",
      "Outputs : 0.9480170079664101\n",
      "Inputs : 1.0253897908976972\n",
      "Outputs : 0.7360211349362572\n",
      "Inputs : 0.5223726503222796\n",
      "Outputs : 0.6277024037314222\n",
      "\n",
      "Expected=1, Got=0\n",
      "===============\n",
      "Inputs : 2.445635861331077\n",
      "Outputs : 0.920241723478603\n",
      "Inputs : 2.2285466865802177\n",
      "Outputs : 0.9027838833959835\n",
      "Inputs : 0.9804349447901706\n",
      "Outputs : 0.7271945103691089\n",
      "Inputs : 0.5024983063622974\n",
      "Outputs : 0.6230462625995964\n",
      "\n",
      "Expected=1, Got=0\n",
      "===============\n"
     ]
    }
   ],
   "source": [
    "# Test making predictions with the network\n",
    "test_dataset = [[2.7810836,2.550537003,0],\n",
    "                [1.465489372,2.362125076,0],\n",
    "                [7.627531214,2.759262235,1],\n",
    "                [5.332441248,2.088626775,1]]\n",
    "\n",
    "for row in test_dataset:\n",
    "    prediction = predict(network, row)\n",
    "    print('\\nExpected=%d, Got=%d' % (row[-1], prediction))\n",
    "    print(\"===============\")"
   ]
  }
 ],
 "metadata": {
  "kernelspec": {
   "display_name": "Python 3",
   "language": "python",
   "name": "python3"
  },
  "language_info": {
   "codemirror_mode": {
    "name": "ipython",
    "version": 3
   },
   "file_extension": ".py",
   "mimetype": "text/x-python",
   "name": "python",
   "nbconvert_exporter": "python",
   "pygments_lexer": "ipython3",
   "version": "3.8.1"
  }
 },
 "nbformat": 4,
 "nbformat_minor": 4
}
